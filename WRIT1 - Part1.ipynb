{
 "cells": [
  {
   "cell_type": "code",
   "execution_count": 53,
   "id": "5abdccec",
   "metadata": {},
   "outputs": [],
   "source": [
    "#importing\n",
    "\n",
    "import numpy as np\n",
    "import pandas as pd\n",
    "import matplotlib.pyplot as plt\n",
    "from mpl_toolkits.mplot3d import Axes3D\n",
    "import seaborn as sns\n",
    "from sklearn import metrics\n",
    "%matplotlib inline\n",
    "\n",
    "from sklearn.model_selection import train_test_split\n",
    "\n",
    "np.set_printoptions(suppress=True) #This helps with readablity. "
   ]
  },
  {
   "cell_type": "code",
   "execution_count": 54,
   "id": "7bada245",
   "metadata": {},
   "outputs": [],
   "source": [
    "df = pd.read_csv('messidor_features1.csv') #data converted to csv and imported."
   ]
  },
  {
   "cell_type": "code",
   "execution_count": 55,
   "id": "fdabfebd",
   "metadata": {},
   "outputs": [
    {
     "data": {
      "text/html": [
       "<div>\n",
       "<style scoped>\n",
       "    .dataframe tbody tr th:only-of-type {\n",
       "        vertical-align: middle;\n",
       "    }\n",
       "\n",
       "    .dataframe tbody tr th {\n",
       "        vertical-align: top;\n",
       "    }\n",
       "\n",
       "    .dataframe thead th {\n",
       "        text-align: right;\n",
       "    }\n",
       "</style>\n",
       "<table border=\"1\" class=\"dataframe\">\n",
       "  <thead>\n",
       "    <tr style=\"text-align: right;\">\n",
       "      <th></th>\n",
       "      <th>Quality</th>\n",
       "      <th>Pre-Screen</th>\n",
       "      <th>MA1</th>\n",
       "      <th>MA2</th>\n",
       "      <th>MA3</th>\n",
       "      <th>MA4</th>\n",
       "      <th>MA5</th>\n",
       "      <th>MA6</th>\n",
       "      <th>MA7</th>\n",
       "      <th>MA8</th>\n",
       "      <th>MA9</th>\n",
       "      <th>MA10</th>\n",
       "      <th>MA11</th>\n",
       "      <th>MA12</th>\n",
       "      <th>MA13</th>\n",
       "      <th>MA14</th>\n",
       "      <th>MaculaDist</th>\n",
       "      <th>OpticDiscDiam</th>\n",
       "      <th>AM/FM</th>\n",
       "      <th>Output</th>\n",
       "    </tr>\n",
       "  </thead>\n",
       "  <tbody>\n",
       "    <tr>\n",
       "      <th>0</th>\n",
       "      <td>1</td>\n",
       "      <td>1</td>\n",
       "      <td>22</td>\n",
       "      <td>22</td>\n",
       "      <td>22</td>\n",
       "      <td>19</td>\n",
       "      <td>18</td>\n",
       "      <td>14</td>\n",
       "      <td>49.895756</td>\n",
       "      <td>17.775994</td>\n",
       "      <td>5.270920</td>\n",
       "      <td>0.771761</td>\n",
       "      <td>0.018632</td>\n",
       "      <td>0.006864</td>\n",
       "      <td>0.003923</td>\n",
       "      <td>0.003923</td>\n",
       "      <td>0.486903</td>\n",
       "      <td>0.100025</td>\n",
       "      <td>1</td>\n",
       "      <td>0</td>\n",
       "    </tr>\n",
       "    <tr>\n",
       "      <th>1</th>\n",
       "      <td>1</td>\n",
       "      <td>1</td>\n",
       "      <td>24</td>\n",
       "      <td>24</td>\n",
       "      <td>22</td>\n",
       "      <td>18</td>\n",
       "      <td>16</td>\n",
       "      <td>13</td>\n",
       "      <td>57.709936</td>\n",
       "      <td>23.799994</td>\n",
       "      <td>3.325423</td>\n",
       "      <td>0.234185</td>\n",
       "      <td>0.003903</td>\n",
       "      <td>0.003903</td>\n",
       "      <td>0.003903</td>\n",
       "      <td>0.003903</td>\n",
       "      <td>0.520908</td>\n",
       "      <td>0.144414</td>\n",
       "      <td>0</td>\n",
       "      <td>0</td>\n",
       "    </tr>\n",
       "    <tr>\n",
       "      <th>2</th>\n",
       "      <td>1</td>\n",
       "      <td>1</td>\n",
       "      <td>62</td>\n",
       "      <td>60</td>\n",
       "      <td>59</td>\n",
       "      <td>54</td>\n",
       "      <td>47</td>\n",
       "      <td>33</td>\n",
       "      <td>55.831441</td>\n",
       "      <td>27.993933</td>\n",
       "      <td>12.687485</td>\n",
       "      <td>4.852282</td>\n",
       "      <td>1.393889</td>\n",
       "      <td>0.373252</td>\n",
       "      <td>0.041817</td>\n",
       "      <td>0.007744</td>\n",
       "      <td>0.530904</td>\n",
       "      <td>0.128548</td>\n",
       "      <td>0</td>\n",
       "      <td>1</td>\n",
       "    </tr>\n",
       "    <tr>\n",
       "      <th>3</th>\n",
       "      <td>1</td>\n",
       "      <td>1</td>\n",
       "      <td>55</td>\n",
       "      <td>53</td>\n",
       "      <td>53</td>\n",
       "      <td>50</td>\n",
       "      <td>43</td>\n",
       "      <td>31</td>\n",
       "      <td>40.467228</td>\n",
       "      <td>18.445954</td>\n",
       "      <td>9.118901</td>\n",
       "      <td>3.079428</td>\n",
       "      <td>0.840261</td>\n",
       "      <td>0.272434</td>\n",
       "      <td>0.007653</td>\n",
       "      <td>0.001531</td>\n",
       "      <td>0.483284</td>\n",
       "      <td>0.114790</td>\n",
       "      <td>0</td>\n",
       "      <td>0</td>\n",
       "    </tr>\n",
       "    <tr>\n",
       "      <th>4</th>\n",
       "      <td>1</td>\n",
       "      <td>1</td>\n",
       "      <td>44</td>\n",
       "      <td>44</td>\n",
       "      <td>44</td>\n",
       "      <td>41</td>\n",
       "      <td>39</td>\n",
       "      <td>27</td>\n",
       "      <td>18.026254</td>\n",
       "      <td>8.570709</td>\n",
       "      <td>0.410381</td>\n",
       "      <td>0.000000</td>\n",
       "      <td>0.000000</td>\n",
       "      <td>0.000000</td>\n",
       "      <td>0.000000</td>\n",
       "      <td>0.000000</td>\n",
       "      <td>0.475935</td>\n",
       "      <td>0.123572</td>\n",
       "      <td>0</td>\n",
       "      <td>1</td>\n",
       "    </tr>\n",
       "    <tr>\n",
       "      <th>...</th>\n",
       "      <td>...</td>\n",
       "      <td>...</td>\n",
       "      <td>...</td>\n",
       "      <td>...</td>\n",
       "      <td>...</td>\n",
       "      <td>...</td>\n",
       "      <td>...</td>\n",
       "      <td>...</td>\n",
       "      <td>...</td>\n",
       "      <td>...</td>\n",
       "      <td>...</td>\n",
       "      <td>...</td>\n",
       "      <td>...</td>\n",
       "      <td>...</td>\n",
       "      <td>...</td>\n",
       "      <td>...</td>\n",
       "      <td>...</td>\n",
       "      <td>...</td>\n",
       "      <td>...</td>\n",
       "      <td>...</td>\n",
       "    </tr>\n",
       "    <tr>\n",
       "      <th>1146</th>\n",
       "      <td>1</td>\n",
       "      <td>1</td>\n",
       "      <td>34</td>\n",
       "      <td>34</td>\n",
       "      <td>34</td>\n",
       "      <td>33</td>\n",
       "      <td>31</td>\n",
       "      <td>24</td>\n",
       "      <td>6.071765</td>\n",
       "      <td>0.937472</td>\n",
       "      <td>0.031145</td>\n",
       "      <td>0.003115</td>\n",
       "      <td>0.000000</td>\n",
       "      <td>0.000000</td>\n",
       "      <td>0.000000</td>\n",
       "      <td>0.000000</td>\n",
       "      <td>0.537470</td>\n",
       "      <td>0.116795</td>\n",
       "      <td>0</td>\n",
       "      <td>0</td>\n",
       "    </tr>\n",
       "    <tr>\n",
       "      <th>1147</th>\n",
       "      <td>1</td>\n",
       "      <td>1</td>\n",
       "      <td>49</td>\n",
       "      <td>49</td>\n",
       "      <td>49</td>\n",
       "      <td>49</td>\n",
       "      <td>45</td>\n",
       "      <td>37</td>\n",
       "      <td>63.197145</td>\n",
       "      <td>27.377668</td>\n",
       "      <td>8.067688</td>\n",
       "      <td>0.979548</td>\n",
       "      <td>0.001552</td>\n",
       "      <td>0.000000</td>\n",
       "      <td>0.000000</td>\n",
       "      <td>0.000000</td>\n",
       "      <td>0.516733</td>\n",
       "      <td>0.124190</td>\n",
       "      <td>0</td>\n",
       "      <td>0</td>\n",
       "    </tr>\n",
       "    <tr>\n",
       "      <th>1148</th>\n",
       "      <td>1</td>\n",
       "      <td>0</td>\n",
       "      <td>49</td>\n",
       "      <td>48</td>\n",
       "      <td>48</td>\n",
       "      <td>45</td>\n",
       "      <td>43</td>\n",
       "      <td>33</td>\n",
       "      <td>30.461898</td>\n",
       "      <td>13.966980</td>\n",
       "      <td>1.763305</td>\n",
       "      <td>0.137858</td>\n",
       "      <td>0.011221</td>\n",
       "      <td>0.000000</td>\n",
       "      <td>0.000000</td>\n",
       "      <td>0.000000</td>\n",
       "      <td>0.560632</td>\n",
       "      <td>0.129843</td>\n",
       "      <td>0</td>\n",
       "      <td>0</td>\n",
       "    </tr>\n",
       "    <tr>\n",
       "      <th>1149</th>\n",
       "      <td>1</td>\n",
       "      <td>1</td>\n",
       "      <td>39</td>\n",
       "      <td>36</td>\n",
       "      <td>29</td>\n",
       "      <td>23</td>\n",
       "      <td>13</td>\n",
       "      <td>7</td>\n",
       "      <td>40.525739</td>\n",
       "      <td>12.604947</td>\n",
       "      <td>4.740919</td>\n",
       "      <td>1.077570</td>\n",
       "      <td>0.563518</td>\n",
       "      <td>0.326860</td>\n",
       "      <td>0.239568</td>\n",
       "      <td>0.174584</td>\n",
       "      <td>0.485972</td>\n",
       "      <td>0.106690</td>\n",
       "      <td>1</td>\n",
       "      <td>1</td>\n",
       "    </tr>\n",
       "    <tr>\n",
       "      <th>1150</th>\n",
       "      <td>1</td>\n",
       "      <td>1</td>\n",
       "      <td>7</td>\n",
       "      <td>7</td>\n",
       "      <td>7</td>\n",
       "      <td>7</td>\n",
       "      <td>7</td>\n",
       "      <td>5</td>\n",
       "      <td>69.423565</td>\n",
       "      <td>7.031843</td>\n",
       "      <td>1.750548</td>\n",
       "      <td>0.046597</td>\n",
       "      <td>0.021180</td>\n",
       "      <td>0.008472</td>\n",
       "      <td>0.000000</td>\n",
       "      <td>0.000000</td>\n",
       "      <td>0.556192</td>\n",
       "      <td>0.088957</td>\n",
       "      <td>0</td>\n",
       "      <td>0</td>\n",
       "    </tr>\n",
       "  </tbody>\n",
       "</table>\n",
       "<p>1151 rows × 20 columns</p>\n",
       "</div>"
      ],
      "text/plain": [
       "      Quality  Pre-Screen  MA1  MA2  MA3  MA4  MA5  MA6        MA7        MA8  \\\n",
       "0           1           1   22   22   22   19   18   14  49.895756  17.775994   \n",
       "1           1           1   24   24   22   18   16   13  57.709936  23.799994   \n",
       "2           1           1   62   60   59   54   47   33  55.831441  27.993933   \n",
       "3           1           1   55   53   53   50   43   31  40.467228  18.445954   \n",
       "4           1           1   44   44   44   41   39   27  18.026254   8.570709   \n",
       "...       ...         ...  ...  ...  ...  ...  ...  ...        ...        ...   \n",
       "1146        1           1   34   34   34   33   31   24   6.071765   0.937472   \n",
       "1147        1           1   49   49   49   49   45   37  63.197145  27.377668   \n",
       "1148        1           0   49   48   48   45   43   33  30.461898  13.966980   \n",
       "1149        1           1   39   36   29   23   13    7  40.525739  12.604947   \n",
       "1150        1           1    7    7    7    7    7    5  69.423565   7.031843   \n",
       "\n",
       "            MA9      MA10      MA11      MA12      MA13      MA14  MaculaDist  \\\n",
       "0      5.270920  0.771761  0.018632  0.006864  0.003923  0.003923    0.486903   \n",
       "1      3.325423  0.234185  0.003903  0.003903  0.003903  0.003903    0.520908   \n",
       "2     12.687485  4.852282  1.393889  0.373252  0.041817  0.007744    0.530904   \n",
       "3      9.118901  3.079428  0.840261  0.272434  0.007653  0.001531    0.483284   \n",
       "4      0.410381  0.000000  0.000000  0.000000  0.000000  0.000000    0.475935   \n",
       "...         ...       ...       ...       ...       ...       ...         ...   \n",
       "1146   0.031145  0.003115  0.000000  0.000000  0.000000  0.000000    0.537470   \n",
       "1147   8.067688  0.979548  0.001552  0.000000  0.000000  0.000000    0.516733   \n",
       "1148   1.763305  0.137858  0.011221  0.000000  0.000000  0.000000    0.560632   \n",
       "1149   4.740919  1.077570  0.563518  0.326860  0.239568  0.174584    0.485972   \n",
       "1150   1.750548  0.046597  0.021180  0.008472  0.000000  0.000000    0.556192   \n",
       "\n",
       "      OpticDiscDiam  AM/FM  Output  \n",
       "0          0.100025      1       0  \n",
       "1          0.144414      0       0  \n",
       "2          0.128548      0       1  \n",
       "3          0.114790      0       0  \n",
       "4          0.123572      0       1  \n",
       "...             ...    ...     ...  \n",
       "1146       0.116795      0       0  \n",
       "1147       0.124190      0       0  \n",
       "1148       0.129843      0       0  \n",
       "1149       0.106690      1       1  \n",
       "1150       0.088957      0       0  \n",
       "\n",
       "[1151 rows x 20 columns]"
      ]
     },
     "execution_count": 55,
     "metadata": {},
     "output_type": "execute_result"
    }
   ],
   "source": [
    "df.rename(columns={'0':'Quality','1':'Pre-Screen','2':'MA1','3':'MA2','4':'MA3','5':'MA4','6':'MA5','7':'MA6' \n",
    ",'8':'MA7','9':'MA8','10':'MA9','11':'MA10','12':'MA11','13':'MA12','14':'MA13','15':'MA14','16':'MaculaDist','17':'OpticDiscDiam','18':'AM/FM','19':'Output',}, inplace=True)\n",
    "\n",
    "#Renaming all the collumms\n",
    "df"
   ]
  },
  {
   "cell_type": "code",
   "execution_count": 56,
   "id": "e3a83860",
   "metadata": {},
   "outputs": [
    {
     "data": {
      "text/plain": [
       "<seaborn.axisgrid.FacetGrid at 0x1c899909e80>"
      ]
     },
     "execution_count": 56,
     "metadata": {},
     "output_type": "execute_result"
    },
    {
     "data": {
      "image/png": "[encoded data removed]",
      "text/plain": [
       "<Figure size 500x500 with 1 Axes>"
      ]
     },
     "metadata": {},
     "output_type": "display_data"
    }
   ],
   "source": [
    "# 1.3\tVisualize the distribution of features and classes (with bar charts)\n",
    "#df_messidor_features.plot.bar(x='lab', y='val', rot=0)\n",
    "\n",
    "sns.catplot(x = 'Pre-Screen', y = 'Output', data = df)"
   ]
  },
  {
   "cell_type": "code",
   "execution_count": 57,
   "id": "b0bdc7ed",
   "metadata": {},
   "outputs": [],
   "source": [
    "#Drop the column(s) which you think do not contribute towards classification.\n",
    "#df_messidor_features(['MA12','MA13','MA14'], axis=1, inplace=True)\n",
    "\n",
    "df = df.drop(columns=['MA12', 'MA13','MA14'])\n",
    "#df"
   ]
  },
  {
   "cell_type": "code",
   "execution_count": 58,
   "id": "05b2b644",
   "metadata": {},
   "outputs": [
    {
     "name": "stdout",
     "output_type": "stream",
     "text": [
      "      Quality  Pre-Screen       MA1       MA2       MA3       MA4       MA5  \\\n",
      "0         1.0         1.0  0.140000  0.160305  0.176471  0.173077  0.177083   \n",
      "1         1.0         1.0  0.153333  0.175573  0.176471  0.163462  0.156250   \n",
      "2         1.0         1.0  0.406667  0.450382  0.487395  0.509615  0.479167   \n",
      "3         1.0         1.0  0.360000  0.396947  0.436975  0.471154  0.437500   \n",
      "4         1.0         1.0  0.286667  0.328244  0.361345  0.384615  0.395833   \n",
      "...       ...         ...       ...       ...       ...       ...       ...   \n",
      "1146      1.0         1.0  0.220000  0.251908  0.277311  0.307692  0.312500   \n",
      "1147      1.0         1.0  0.320000  0.366412  0.403361  0.461538  0.458333   \n",
      "1148      1.0         0.0  0.320000  0.358779  0.394958  0.423077  0.437500   \n",
      "1149      1.0         1.0  0.253333  0.267176  0.235294  0.211538  0.125000   \n",
      "1150      1.0         1.0  0.040000  0.045802  0.050420  0.057692  0.062500   \n",
      "\n",
      "           MA6       MA7       MA8       MA9      MA10      MA11  MaculaDist  \\\n",
      "0     0.147727  0.122764  0.106359  0.049693  0.012913  0.000362    0.530801   \n",
      "1     0.136364  0.142126  0.142403  0.031351  0.003918  0.000076    0.682302   \n",
      "2     0.363636  0.137472  0.167497  0.119614  0.081188  0.027106    0.726836   \n",
      "3     0.340909  0.099403  0.110368  0.085971  0.051525  0.016340    0.514678   \n",
      "4     0.295455  0.043799  0.051281  0.003869  0.000000  0.000000    0.481936   \n",
      "...        ...       ...       ...       ...       ...       ...         ...   \n",
      "1146  0.261364  0.014179  0.005609  0.000294  0.000052  0.000000    0.756089   \n",
      "1147  0.409091  0.155722  0.163809  0.076060  0.016390  0.000030    0.663701   \n",
      "1148  0.363636  0.074612  0.083569  0.016624  0.002307  0.000218    0.859281   \n",
      "1149  0.068182  0.099548  0.075419  0.044696  0.018030  0.010958    0.526653   \n",
      "1150  0.045455  0.171150  0.042074  0.016504  0.000780  0.000412    0.839500   \n",
      "\n",
      "      OpticDiscDiam  AM/FM  Output  \n",
      "0          0.261133    1.0     0.0  \n",
      "1          0.536341    0.0     0.0  \n",
      "2          0.437973    0.0     1.0  \n",
      "3          0.352675    0.0     0.0  \n",
      "4          0.407122    0.0     1.0  \n",
      "...             ...    ...     ...  \n",
      "1146       0.365106    0.0     0.0  \n",
      "1147       0.410954    0.0     0.0  \n",
      "1148       0.446002    0.0     0.0  \n",
      "1149       0.302456    1.0     1.0  \n",
      "1150       0.192513    0.0     0.0  \n",
      "\n",
      "[1151 rows x 17 columns]\n"
     ]
    }
   ],
   "source": [
    "#Normalize each feature to the range of [0,1]\n",
    "df=(df-df.min())/(df.max()-df.min())\n",
    "print(df)"
   ]
  },
  {
   "cell_type": "code",
   "execution_count": 59,
   "id": "afe44def",
   "metadata": {},
   "outputs": [],
   "source": [
    "# Extract input features, define inputs and outputs\n",
    "\n",
    "input_feature_cols = ['Quality','Pre-Screen','MA1','MA2','MA3','MA4','MA5','MA6','MA7','MA8','MA9','MA10','MA11','MaculaDist','OpticDiscDiam','AM/FM']\n",
    "inputs = df[input_feature_cols]\n",
    "\n",
    "output_feature_cols = ['Output']\n",
    "outputs = df[output_feature_cols]\n",
    "#outputs = df.Output\n",
    "\n",
    "#output must be a 1D array, I think. \n",
    "\n",
    "#This sets up the contents of input and outputs, but Im gonna try converting them to pandas arrays for testing\n",
    "#inputs = inputs.to_numpy()\n",
    "#outputs = outputs.to_numpy()"
   ]
  },
  {
   "cell_type": "code",
   "execution_count": 60,
   "id": "f2774459",
   "metadata": {},
   "outputs": [],
   "source": [
    "#1.4\tDivide the whole dataset into two groups randomly. In the dataset, 80% of the instances are reserved for neural network training and 20% of the instances are reserved for testing the performance of the trained neural network.\n",
    "X_train, X_test, y_train, y_test = train_test_split(inputs, outputs, train_size=0.8, random_state=0)\n",
    "\n",
    "#X_train  this is our new input and output for training. The test variables are to be used for testing.\n",
    "#First we must make the data 1D(???)\n",
    "\n",
    "\n",
    "#May have to turn all of these into arrays\n",
    "#input_training_array = np.array(X_train)\n",
    "#output_training_array = np.array(pd.DataFrame(y_train))    #turns the input into an array and the output into a df? Not even sure anymore.\n",
    "#input_testing_array = np.array(X_test)\n",
    "#output_testing_array = np.array(pd.DataFrame(y_test))    <- nearly made me cry \n",
    "#output_training_array\n",
    "\n",
    "#Just keep them as dataframes all."
   ]
  },
  {
   "cell_type": "code",
   "execution_count": 9,
   "id": "7278d6cb",
   "metadata": {},
   "outputs": [],
   "source": [
    "#These weights are for the connection between the inputs and the hidden layer. \n",
    "#16 rows of x inputs, 20 hidden neurons for each input\n",
    "\n",
    "weights_0 = 2 * np.random.random((16, 20)) - 1\n",
    "weights_1 = 2 * np.random.random((20, 1)) - 1\n",
    "\n",
    "#weights are randomly chosen\n",
    "\n",
    "#These weights are for the connection between the hidden layer and the output. not sure if right way around.\n",
    "#20 rows of 1 output weight. \n",
    "\n",
    "#weights_0.shape #(16,20) \n",
    "#weights_1.shape #(20, 1)"
   ]
  },
  {
   "cell_type": "code",
   "execution_count": 10,
   "id": "042641ae",
   "metadata": {},
   "outputs": [],
   "source": [
    "#1.2\tConstruct a 3-layers feedforward network with X input neurons, 20 hidden neurons, and Y output neurons. You must identify the values of X and Y yourself (Hint: Lecture # 3 ANN architecture design). Identify an appropriate activation function and justify your choice.\n",
    "def sigmoid(sum_func):\n",
    "  return 1 / (1 + np.exp(-sum_func))\n",
    "\n",
    "def sigmoid_derivative(sigmoid):    ##sigmoid derivative is the sloped result from the sigmoid activation function. \n",
    "    return sigmoid * (1 - sigmoid)"
   ]
  },
  {
   "cell_type": "code",
   "execution_count": 11,
   "id": "cdab6839",
   "metadata": {},
   "outputs": [
    {
     "name": "stdout",
     "output_type": "stream",
     "text": [
      "Epoch: 1 Error: Output    0.483925\n",
      "dtype: float64\n"
     ]
    },
    {
     "name": "stderr",
     "output_type": "stream",
     "text": [
      "C:\\Users\\Owner\\anaconda3\\lib\\site-packages\\numpy\\core\\fromnumeric.py:3438: FutureWarning: In a future version, DataFrame.mean(axis=None) will return a scalar mean over the entire DataFrame. To retain the old behavior, use 'frame.mean(axis=0)' or just 'frame.mean()'\n",
      "  return mean(axis=axis, dtype=dtype, out=out, **kwargs)\n"
     ]
    },
    {
     "name": "stdout",
     "output_type": "stream",
     "text": [
      "Epoch: 10001 Error: Output    0.291807\n",
      "dtype: float64\n",
      "Epoch: 20001 Error: Output    0.265276\n",
      "dtype: float64\n",
      "Epoch: 30001 Error: Output    0.247157\n",
      "dtype: float64\n",
      "Epoch: 40001 Error: Output    0.23374\n",
      "dtype: float64\n",
      "Epoch: 50001 Error: Output    0.224956\n",
      "dtype: float64\n",
      "Epoch: 60001 Error: Output    0.216709\n",
      "dtype: float64\n",
      "Epoch: 70001 Error: Output    0.20817\n",
      "dtype: float64\n",
      "Epoch: 80001 Error: Output    0.200121\n",
      "dtype: float64\n",
      "Epoch: 90001 Error: Output    0.193028\n",
      "dtype: float64\n",
      "Epoch: 100001 Error: Output    0.186656\n",
      "dtype: float64\n",
      "Epoch: 110001 Error: Output    0.180377\n",
      "dtype: float64\n",
      "Epoch: 120001 Error: Output    0.182246\n",
      "dtype: float64\n",
      "Epoch: 130001 Error: Output    0.170222\n",
      "dtype: float64\n",
      "Epoch: 140001 Error: Output    0.162135\n",
      "dtype: float64\n",
      "Epoch: 150001 Error: Output    0.157328\n",
      "dtype: float64\n",
      "Epoch: 160001 Error: Output    0.153248\n",
      "dtype: float64\n",
      "Epoch: 170001 Error: Output    0.149711\n",
      "dtype: float64\n",
      "Epoch: 180001 Error: Output    0.14677\n",
      "dtype: float64\n",
      "Epoch: 190001 Error: Output    0.144228\n",
      "dtype: float64\n",
      "Epoch: 200001 Error: Output    0.141582\n",
      "dtype: float64\n",
      "Epoch: 210001 Error: Output    0.138417\n",
      "dtype: float64\n",
      "Epoch: 220001 Error: Output    0.134375\n",
      "dtype: float64\n",
      "Epoch: 230001 Error: Output    0.154227\n",
      "dtype: float64\n",
      "Epoch: 240001 Error: Output    0.129036\n",
      "dtype: float64\n",
      "Epoch: 250001 Error: Output    0.127355\n",
      "dtype: float64\n",
      "Epoch: 260001 Error: Output    0.12564\n",
      "dtype: float64\n",
      "Epoch: 270001 Error: Output    0.124287\n",
      "dtype: float64\n",
      "Epoch: 280001 Error: Output    0.122815\n",
      "dtype: float64\n",
      "Epoch: 290001 Error: Output    0.122611\n",
      "dtype: float64\n",
      "Epoch: 300001 Error: Output    0.119863\n",
      "dtype: float64\n",
      "Epoch: 310001 Error: Output    0.12095\n",
      "dtype: float64\n",
      "Epoch: 320001 Error: Output    0.117256\n",
      "dtype: float64\n",
      "Epoch: 330001 Error: Output    0.115785\n",
      "dtype: float64\n",
      "Epoch: 340001 Error: Output    0.116366\n",
      "dtype: float64\n",
      "Epoch: 350001 Error: Output    0.145315\n",
      "dtype: float64\n",
      "Epoch: 360001 Error: Output    0.112121\n",
      "dtype: float64\n",
      "Epoch: 370001 Error: Output    0.11178\n",
      "dtype: float64\n",
      "Epoch: 380001 Error: Output    0.109249\n",
      "dtype: float64\n",
      "Epoch: 390001 Error: Output    0.118932\n",
      "dtype: float64\n"
     ]
    }
   ],
   "source": [
    "#Training the network with the training dataset.\n",
    "#Here we use X_train and y_train for input and output layers\n",
    "\n",
    "epochs = 400000\n",
    "learning_rate = 0.01\n",
    "error = []\n",
    "\n",
    "for epoch in range(epochs):\n",
    "    #input to hidden\n",
    "    input_layer = X_train\n",
    "    sum_synapse0 = np.dot(input_layer, weights_0)\n",
    "    hidden_layer = sigmoid(sum_synapse0)\n",
    "    \n",
    "    #hidden to output\n",
    "    sum_synapse1 = np.dot(hidden_layer, weights_1)\n",
    "    output_layer = sigmoid(sum_synapse1)\n",
    "    \n",
    "    #average error\n",
    "    error_output_layer = y_train - output_layer\n",
    "    average = np.mean(abs(error_output_layer))\n",
    "    #print after every specified range of the value\n",
    "    if epoch % 10000 == 0:\n",
    "        print('Epoch: ' + str(epoch + 1) + ' Error: ' + str(average))\n",
    "        error.append(average)\n",
    "    \n",
    "    #delta output\n",
    "    derivative_output = sigmoid_derivative(output_layer)\n",
    "    delta_output = error_output_layer * derivative_output\n",
    "\n",
    "    weights1T = weights_1.T\n",
    "    delta_output_weight = delta_output.dot(weights1T)\n",
    "    delta_hidden_layer = delta_output_weight * sigmoid_derivative(hidden_layer)\n",
    "    \n",
    "    #weight update for hidden layer\n",
    "    hidden_layerT = hidden_layer.T\n",
    "    input_x_delta1 = hidden_layerT.dot(delta_output)\n",
    "    weights_1 = weights_1 + (input_x_delta1 * learning_rate)\n",
    "    \n",
    "    #weight update for input layer\n",
    "    input_layerT = input_layer.T\n",
    "    input_x_delta0 = input_layerT.dot(delta_hidden_layer)\n",
    "    weights_0 = weights_0 + (input_x_delta0 * learning_rate)"
   ]
  },
  {
   "cell_type": "code",
   "execution_count": 12,
   "id": "e79ed671",
   "metadata": {},
   "outputs": [
    {
     "data": {
      "image/png": "[encoded data removed]",
      "text/plain": [
       "<Figure size 640x480 with 1 Axes>"
      ]
     },
     "metadata": {},
     "output_type": "display_data"
    }
   ],
   "source": [
    "plt.xlabel('Number of Epochs')\n",
    "plt.ylabel('Error')\n",
    "plt.title('Plot showing results from Neural Network Training')\n",
    "plt.plot(error)\n",
    "plt.show()"
   ]
  },
  {
   "cell_type": "code",
   "execution_count": 13,
   "id": "b423aba1",
   "metadata": {},
   "outputs": [
    {
     "name": "stdout",
     "output_type": "stream",
     "text": [
      "Epoch: 1 Error: Output    0.294679\n",
      "dtype: float64\n",
      "Epoch: 10001 Error: Output    0.294679\n",
      "dtype: float64\n",
      "Epoch: 20001 Error: Output    0.294679\n",
      "dtype: float64\n",
      "Epoch: 30001 Error: Output    0.294679\n",
      "dtype: float64\n",
      "Epoch: 40001 Error: Output    0.294679\n",
      "dtype: float64\n",
      "Epoch: 50001 Error: Output    0.294679\n",
      "dtype: float64\n",
      "Epoch: 60001 Error: Output    0.294679\n",
      "dtype: float64\n",
      "Epoch: 70001 Error: Output    0.294679\n",
      "dtype: float64\n",
      "Epoch: 80001 Error: Output    0.294679\n",
      "dtype: float64\n",
      "Epoch: 90001 Error: Output    0.294679\n",
      "dtype: float64\n",
      "Epoch: 100001 Error: Output    0.294679\n",
      "dtype: float64\n",
      "Epoch: 110001 Error: Output    0.294679\n",
      "dtype: float64\n",
      "Epoch: 120001 Error: Output    0.294679\n",
      "dtype: float64\n",
      "Epoch: 130001 Error: Output    0.294679\n",
      "dtype: float64\n",
      "Epoch: 140001 Error: Output    0.294679\n",
      "dtype: float64\n",
      "Epoch: 150001 Error: Output    0.294679\n",
      "dtype: float64\n",
      "Epoch: 160001 Error: Output    0.294679\n",
      "dtype: float64\n",
      "Epoch: 170001 Error: Output    0.294679\n",
      "dtype: float64\n",
      "Epoch: 180001 Error: Output    0.294679\n",
      "dtype: float64\n",
      "Epoch: 190001 Error: Output    0.294679\n",
      "dtype: float64\n",
      "Epoch: 200001 Error: Output    0.294679\n",
      "dtype: float64\n",
      "Epoch: 210001 Error: Output    0.294679\n",
      "dtype: float64\n",
      "Epoch: 220001 Error: Output    0.294679\n",
      "dtype: float64\n",
      "Epoch: 230001 Error: Output    0.294679\n",
      "dtype: float64\n",
      "Epoch: 240001 Error: Output    0.294679\n",
      "dtype: float64\n",
      "Epoch: 250001 Error: Output    0.294679\n",
      "dtype: float64\n",
      "Epoch: 260001 Error: Output    0.294679\n",
      "dtype: float64\n",
      "Epoch: 270001 Error: Output    0.294679\n",
      "dtype: float64\n",
      "Epoch: 280001 Error: Output    0.294679\n",
      "dtype: float64\n",
      "Epoch: 290001 Error: Output    0.294679\n",
      "dtype: float64\n",
      "Epoch: 300001 Error: Output    0.294679\n",
      "dtype: float64\n",
      "Epoch: 310001 Error: Output    0.294679\n",
      "dtype: float64\n",
      "Epoch: 320001 Error: Output    0.294679\n",
      "dtype: float64\n",
      "Epoch: 330001 Error: Output    0.294679\n",
      "dtype: float64\n",
      "Epoch: 340001 Error: Output    0.294679\n",
      "dtype: float64\n",
      "Epoch: 350001 Error: Output    0.294679\n",
      "dtype: float64\n",
      "Epoch: 360001 Error: Output    0.294679\n",
      "dtype: float64\n",
      "Epoch: 370001 Error: Output    0.294679\n",
      "dtype: float64\n",
      "Epoch: 380001 Error: Output    0.294679\n",
      "dtype: float64\n",
      "Epoch: 390001 Error: Output    0.294679\n",
      "dtype: float64\n"
     ]
    }
   ],
   "source": [
    "#Testing\n",
    "\n",
    "epochs = 400000\n",
    "learning_rate = 0.01\n",
    "error = []\n",
    "\n",
    "for epoch in range(epochs):\n",
    "    #input to hidden\n",
    "    input_layer = X_test\n",
    "    sum_synapse0 = np.dot(input_layer, weights_0)\n",
    "    hidden_layer = sigmoid(sum_synapse0)\n",
    "    \n",
    "    #hidden to output\n",
    "    sum_synapse1 = np.dot(hidden_layer, weights_1)\n",
    "    output_layer = sigmoid(sum_synapse1)\n",
    "    \n",
    "    #average error\n",
    "    error_output_layer = y_test - output_layer\n",
    "    average = np.mean(abs(error_output_layer))\n",
    "    #print after every specified range of the value\n",
    "    if epoch % 10000 == 0:\n",
    "        print('Epoch: ' + str(epoch + 1) + ' Error: ' + str(average))\n",
    "        error.append(average)"
   ]
  },
  {
   "cell_type": "code",
   "execution_count": 14,
   "id": "1e0227dd",
   "metadata": {},
   "outputs": [
    {
     "data": {
      "image/png": "[encoded data removed]",
      "text/plain": [
       "<Figure size 640x480 with 1 Axes>"
      ]
     },
     "metadata": {},
     "output_type": "display_data"
    }
   ],
   "source": [
    "plt.xlabel('Number of Epochs')\n",
    "plt.ylabel('Error')\n",
    "plt.title('Plot showing results from Neural Network Testing')\n",
    "plt.plot(error)\n",
    "plt.show()"
   ]
  },
  {
   "cell_type": "code",
   "execution_count": 15,
   "id": "089e9ce1",
   "metadata": {},
   "outputs": [],
   "source": [
    "# This function accepts an instance of a dataset\n",
    "\n",
    "def calculate_output(instance):\n",
    "    #input to hidden layer\n",
    "    hidden_layer = sigmoid(np.dot(instance, weights_0))\n",
    "    #hidden to output layer\n",
    "    output_layer = sigmoid(np.dot(hidden_layer, weights_1))\n",
    "    return output_layer[0]\n",
    "\n",
    "#round(calculate_output(np.array([1, 1])))\n",
    "#round(calculate_output(inputs[2]))"
   ]
  },
  {
   "cell_type": "code",
   "execution_count": 16,
   "id": "8678607b",
   "metadata": {},
   "outputs": [],
   "source": [
    "#Take predictions from our network and use it to do accuracy measures. \n",
    "\n",
    "preds = pd.DataFrame(output_layer, columns = ['Model Outputs'])  ##so what the model predicts is in its own dataframe called outputs\n",
    "preds['prediction'] = 1\n",
    "preds.loc[preds['Model Outputs'] < 0.5, 'prediction'] = 0 #if model output is less than 0.5 make the prediciton 0 \n",
    "#Model outputs are using scientific notations. I tried to turn it off but it wont work. \n",
    "\n",
    "actual = pd.DataFrame(y_test)##making a dataframe out of the actual outputs\n",
    "both = pd.merge(actual,preds, left_index = True, right_index = True)\n",
    "\n",
    "#I have no idea why the outputs are listed in an order like this. "
   ]
  },
  {
   "cell_type": "code",
   "execution_count": 17,
   "id": "cf839474",
   "metadata": {},
   "outputs": [
    {
     "data": {
      "text/plain": [
       "False    56.756757\n",
       "True     43.243243\n",
       "Name: True Prediction, dtype: float64"
      ]
     },
     "execution_count": 17,
     "metadata": {},
     "output_type": "execute_result"
    }
   ],
   "source": [
    "both['True Prediction'] = False\n",
    "both.loc[both['Output'] == both['prediction'], 'True Prediction'] = True\n",
    "both['True Prediction'].value_counts(normalize = True)*100"
   ]
  },
  {
   "cell_type": "code",
   "execution_count": 18,
   "id": "549f48d8",
   "metadata": {},
   "outputs": [
    {
     "name": "stdout",
     "output_type": "stream",
     "text": [
      "[[78 23]\n",
      " [44 86]]\n"
     ]
    }
   ],
   "source": [
    "#np.info(y_test)\n",
    "#np.info(output_layer)\n",
    "\n",
    "##CONFUSION MATRIX\n",
    "\n",
    "#Use the predicted 0,1 output to compare to the actual 0,1 output.\n",
    "#taking the actual outcomes and the models predictions. \n",
    "\n",
    "\n",
    "model_prediction = preds.drop(columns = ['Model Outputs'])\n",
    "\n",
    "print(metrics.confusion_matrix(y_test, model_prediction))\n",
    "\n",
    "#model_output = pd.DataFrame(output_layer, columns = ['Model Outputs'])\n",
    "#actual_output = pd.DataFrame(y_test)"
   ]
  },
  {
   "cell_type": "code",
   "execution_count": 19,
   "id": "1e148849",
   "metadata": {
    "scrolled": true
   },
   "outputs": [
    {
     "name": "stdout",
     "output_type": "stream",
     "text": [
      "[[78 23]\n",
      " [44 86]]\n"
     ]
    }
   ],
   "source": [
    "confusion = metrics.confusion_matrix(y_test, model_prediction)\n",
    "print(confusion)\n",
    "#[row, column]\n",
    "TP = confusion[1, 1]\n",
    "TN = confusion[0, 0]\n",
    "FP = confusion[0, 1]\n",
    "FN = confusion[1, 0]\n",
    "\n",
    "#TP = 124\n",
    "#TN = 91\n",
    "#FP = 10\n",
    "#FN = 6"
   ]
  },
  {
   "cell_type": "code",
   "execution_count": 20,
   "id": "632e154f",
   "metadata": {},
   "outputs": [
    {
     "data": {
      "text/plain": [
       "<AxesSubplot:>"
      ]
     },
     "execution_count": 20,
     "metadata": {},
     "output_type": "execute_result"
    },
    {
     "data": {
      "image/png": "[encoded data removed]",
      "text/plain": [
       "<Figure size 640x480 with 2 Axes>"
      ]
     },
     "metadata": {},
     "output_type": "display_data"
    }
   ],
   "source": [
    "sns.heatmap(confusion, annot=True)"
   ]
  },
  {
   "cell_type": "code",
   "execution_count": 21,
   "id": "eec7ab55",
   "metadata": {
    "scrolled": false
   },
   "outputs": [
    {
     "name": "stdout",
     "output_type": "stream",
     "text": [
      "0.70995670995671\n",
      "0.70995670995671\n"
     ]
    }
   ],
   "source": [
    "print((TP + TN) / float(TP + TN + FP + FN))\n",
    "print(metrics.accuracy_score(y_test, model_prediction))\n",
    "\n",
    "#Our Accuracy"
   ]
  },
  {
   "cell_type": "code",
   "execution_count": 22,
   "id": "d08916e6",
   "metadata": {},
   "outputs": [
    {
     "name": "stdout",
     "output_type": "stream",
     "text": [
      "0.29004329004329005\n",
      "0.29004329004329\n"
     ]
    }
   ],
   "source": [
    "classification_error = (FP + FN) / float(TP + TN + FP + FN)\n",
    "print(classification_error)\n",
    "print(1 - metrics.accuracy_score(y_test, model_prediction))\n",
    "\n",
    "#Our classifcation error rate"
   ]
  },
  {
   "cell_type": "code",
   "execution_count": 23,
   "id": "d42b85cf",
   "metadata": {},
   "outputs": [
    {
     "name": "stdout",
     "output_type": "stream",
     "text": [
      "0.6615384615384615\n",
      "0.6615384615384615\n"
     ]
    }
   ],
   "source": [
    "sensitivity = TP / float(FN + TP)\n",
    "print(sensitivity)\n",
    "print(metrics.recall_score(y_test, model_prediction))\n",
    "\n",
    "#Our sensitivity"
   ]
  },
  {
   "cell_type": "code",
   "execution_count": 24,
   "id": "0f6c8475",
   "metadata": {},
   "outputs": [
    {
     "name": "stdout",
     "output_type": "stream",
     "text": [
      "0.7722772277227723\n"
     ]
    }
   ],
   "source": [
    "specificity = TN / (TN + FP)\n",
    "print(specificity)\n",
    "\n",
    "#Our specificity"
   ]
  },
  {
   "cell_type": "code",
   "execution_count": 25,
   "id": "022bacb3",
   "metadata": {},
   "outputs": [
    {
     "name": "stdout",
     "output_type": "stream",
     "text": [
      "0.22772277227722773\n",
      "0.2277227722772277\n"
     ]
    }
   ],
   "source": [
    "false_positive_rate = FP / float(TN + FP)\n",
    "print(false_positive_rate)\n",
    "print(1 - specificity)\n",
    "\n",
    "#Our false positive rates"
   ]
  },
  {
   "cell_type": "code",
   "execution_count": 26,
   "id": "9f277e19",
   "metadata": {},
   "outputs": [
    {
     "name": "stdout",
     "output_type": "stream",
     "text": [
      "0.7889908256880734\n",
      "0.7889908256880734\n"
     ]
    }
   ],
   "source": [
    "precision = TP / float(TP + FP)\n",
    "print(precision)\n",
    "print(metrics.precision_score(y_test, model_prediction))\n",
    "\n",
    "#Our precision"
   ]
  },
  {
   "cell_type": "code",
   "execution_count": 27,
   "id": "cbdb9eb8",
   "metadata": {},
   "outputs": [
    {
     "name": "stdout",
     "output_type": "stream",
     "text": [
      "0.7196652719665272\n",
      "0.7196652719665272\n"
     ]
    }
   ],
   "source": [
    "from sklearn.metrics import f1_score\n",
    "F1_score = 2*((precision*sensitivity)/(precision+sensitivity))\n",
    "print(F1_score)\n",
    "print(metrics.f1_score(y_test, model_prediction))"
   ]
  },
  {
   "cell_type": "code",
   "execution_count": 28,
   "id": "bb490e58",
   "metadata": {},
   "outputs": [
    {
     "name": "stdout",
     "output_type": "stream",
     "text": [
      "AUC:0.716907844630617\n"
     ]
    }
   ],
   "source": [
    "auc = metrics.roc_auc_score(y_test, model_prediction)\n",
    "print('AUC:' + str(auc))"
   ]
  },
  {
   "cell_type": "code",
   "execution_count": 29,
   "id": "bd566377",
   "metadata": {},
   "outputs": [],
   "source": [
    "#Time to do it all again. New weights, less of them"
   ]
  },
  {
   "cell_type": "code",
   "execution_count": 30,
   "id": "4bc33743",
   "metadata": {},
   "outputs": [],
   "source": [
    "#this time there are only going to be 12 hidden neurons. \n",
    "weightsA_0 = 2 * np.random.random((16, 12)) - 1\n",
    "weightsA_1 = 2 * np.random.random((12, 1)) - 1\n",
    "\n",
    "\n",
    "#Re-establishing input and output, just in case(not just in case its breaking on me, help!).\n",
    "X_train, X_test, y_train, y_test = train_test_split(inputs, outputs, train_size=0.8, random_state=0)"
   ]
  },
  {
   "cell_type": "code",
   "execution_count": 31,
   "id": "265fc3e8",
   "metadata": {},
   "outputs": [
    {
     "name": "stdout",
     "output_type": "stream",
     "text": [
      "Epoch: 1 Error: Output    0.499689\n",
      "dtype: float64\n"
     ]
    },
    {
     "name": "stderr",
     "output_type": "stream",
     "text": [
      "C:\\Users\\Owner\\anaconda3\\lib\\site-packages\\numpy\\core\\fromnumeric.py:3438: FutureWarning: In a future version, DataFrame.mean(axis=None) will return a scalar mean over the entire DataFrame. To retain the old behavior, use 'frame.mean(axis=0)' or just 'frame.mean()'\n",
      "  return mean(axis=axis, dtype=dtype, out=out, **kwargs)\n"
     ]
    },
    {
     "name": "stdout",
     "output_type": "stream",
     "text": [
      "Epoch: 10001 Error: Output    0.295971\n",
      "dtype: float64\n",
      "Epoch: 20001 Error: Output    0.267949\n",
      "dtype: float64\n",
      "Epoch: 30001 Error: Output    0.251372\n",
      "dtype: float64\n",
      "Epoch: 40001 Error: Output    0.242132\n",
      "dtype: float64\n",
      "Epoch: 50001 Error: Output    0.234111\n",
      "dtype: float64\n",
      "Epoch: 60001 Error: Output    0.227744\n",
      "dtype: float64\n",
      "Epoch: 70001 Error: Output    0.222062\n",
      "dtype: float64\n",
      "Epoch: 80001 Error: Output    0.215457\n",
      "dtype: float64\n",
      "Epoch: 90001 Error: Output    0.20948\n",
      "dtype: float64\n",
      "Epoch: 100001 Error: Output    0.204122\n",
      "dtype: float64\n",
      "Epoch: 110001 Error: Output    0.199229\n",
      "dtype: float64\n",
      "Epoch: 120001 Error: Output    0.195074\n",
      "dtype: float64\n",
      "Epoch: 130001 Error: Output    0.191451\n",
      "dtype: float64\n",
      "Epoch: 140001 Error: Output    0.188162\n",
      "dtype: float64\n",
      "Epoch: 150001 Error: Output    0.185009\n",
      "dtype: float64\n",
      "Epoch: 160001 Error: Output    0.181922\n",
      "dtype: float64\n",
      "Epoch: 170001 Error: Output    0.178515\n",
      "dtype: float64\n",
      "Epoch: 180001 Error: Output    0.176941\n",
      "dtype: float64\n",
      "Epoch: 190001 Error: Output    0.175212\n",
      "dtype: float64\n",
      "Epoch: 200001 Error: Output    0.17326\n",
      "dtype: float64\n",
      "Epoch: 210001 Error: Output    0.17096\n",
      "dtype: float64\n",
      "Epoch: 220001 Error: Output    0.169819\n",
      "dtype: float64\n",
      "Epoch: 230001 Error: Output    0.169294\n",
      "dtype: float64\n",
      "Epoch: 240001 Error: Output    0.166924\n",
      "dtype: float64\n",
      "Epoch: 250001 Error: Output    0.165713\n",
      "dtype: float64\n",
      "Epoch: 260001 Error: Output    0.166502\n",
      "dtype: float64\n",
      "Epoch: 270001 Error: Output    0.164741\n",
      "dtype: float64\n",
      "Epoch: 280001 Error: Output    0.16389\n",
      "dtype: float64\n",
      "Epoch: 290001 Error: Output    0.168316\n",
      "dtype: float64\n",
      "Epoch: 300001 Error: Output    0.159671\n",
      "dtype: float64\n",
      "Epoch: 310001 Error: Output    0.161429\n",
      "dtype: float64\n",
      "Epoch: 320001 Error: Output    0.157545\n",
      "dtype: float64\n",
      "Epoch: 330001 Error: Output    0.15662\n",
      "dtype: float64\n",
      "Epoch: 340001 Error: Output    0.156415\n",
      "dtype: float64\n",
      "Epoch: 350001 Error: Output    0.155438\n",
      "dtype: float64\n",
      "Epoch: 360001 Error: Output    0.154855\n",
      "dtype: float64\n",
      "Epoch: 370001 Error: Output    0.154048\n",
      "dtype: float64\n",
      "Epoch: 380001 Error: Output    0.152946\n",
      "dtype: float64\n",
      "Epoch: 390001 Error: Output    0.173841\n",
      "dtype: float64\n"
     ]
    }
   ],
   "source": [
    "#Training the network with 12 hidden neurons\n",
    "\n",
    "epochs = 400000\n",
    "learning_rate = 0.01\n",
    "error = []\n",
    "\n",
    "for epoch in range(epochs):\n",
    "    #input to hidden\n",
    "    input_layer = X_train\n",
    "    sum_synapse0 = np.dot(input_layer, weightsA_0)\n",
    "    hidden_layer = sigmoid(sum_synapse0)\n",
    "    \n",
    "    #hidden to output\n",
    "    sum_synapse1 = np.dot(hidden_layer, weightsA_1)\n",
    "    output_layer = sigmoid(sum_synapse1)\n",
    "    \n",
    "    #average error\n",
    "    error_output_layer = y_train - output_layer\n",
    "    average = np.mean(abs(error_output_layer))\n",
    "    #print after every specified range of the value\n",
    "    if epoch % 10000 == 0:\n",
    "        print('Epoch: ' + str(epoch + 1) + ' Error: ' + str(average))\n",
    "        error.append(average)\n",
    "    \n",
    "    #delta output\n",
    "    derivative_output = sigmoid_derivative(output_layer)\n",
    "    delta_output = error_output_layer * derivative_output\n",
    "\n",
    "    weightsA1T = weightsA_1.T\n",
    "    delta_output_weight = delta_output.dot(weightsA1T)\n",
    "    delta_hidden_layer = delta_output_weight * sigmoid_derivative(hidden_layer)\n",
    "    \n",
    "    #weight update for hidden layer\n",
    "    hidden_layerT = hidden_layer.T\n",
    "    input_x_delta1 = hidden_layerT.dot(delta_output)\n",
    "    weightsA_1 = weightsA_1 + (input_x_delta1 * learning_rate)\n",
    "    \n",
    "    #weight update for input layer\n",
    "    input_layerT = input_layer.T\n",
    "    input_x_delta0 = input_layerT.dot(delta_hidden_layer)\n",
    "    weightsA_0 = weightsA_0 + (input_x_delta0 * learning_rate)"
   ]
  },
  {
   "cell_type": "code",
   "execution_count": 32,
   "id": "9e40de94",
   "metadata": {},
   "outputs": [
    {
     "data": {
      "image/png": "[encoded data removed]",
      "text/plain": [
       "<Figure size 640x480 with 1 Axes>"
      ]
     },
     "metadata": {},
     "output_type": "display_data"
    }
   ],
   "source": [
    "plt.xlabel('Number of Epochs')\n",
    "plt.ylabel('Error')\n",
    "plt.title('Plot showing results from Neural Network Training')\n",
    "plt.plot(error)\n",
    "plt.show()"
   ]
  },
  {
   "cell_type": "code",
   "execution_count": 33,
   "id": "b6e3f7cd",
   "metadata": {},
   "outputs": [
    {
     "name": "stdout",
     "output_type": "stream",
     "text": [
      "Epoch: 1 Error: Output    0.336031\n",
      "dtype: float64\n",
      "Epoch: 10001 Error: Output    0.336031\n",
      "dtype: float64\n",
      "Epoch: 20001 Error: Output    0.336031\n",
      "dtype: float64\n",
      "Epoch: 30001 Error: Output    0.336031\n",
      "dtype: float64\n",
      "Epoch: 40001 Error: Output    0.336031\n",
      "dtype: float64\n",
      "Epoch: 50001 Error: Output    0.336031\n",
      "dtype: float64\n",
      "Epoch: 60001 Error: Output    0.336031\n",
      "dtype: float64\n",
      "Epoch: 70001 Error: Output    0.336031\n",
      "dtype: float64\n",
      "Epoch: 80001 Error: Output    0.336031\n",
      "dtype: float64\n",
      "Epoch: 90001 Error: Output    0.336031\n",
      "dtype: float64\n",
      "Epoch: 100001 Error: Output    0.336031\n",
      "dtype: float64\n",
      "Epoch: 110001 Error: Output    0.336031\n",
      "dtype: float64\n",
      "Epoch: 120001 Error: Output    0.336031\n",
      "dtype: float64\n",
      "Epoch: 130001 Error: Output    0.336031\n",
      "dtype: float64\n",
      "Epoch: 140001 Error: Output    0.336031\n",
      "dtype: float64\n",
      "Epoch: 150001 Error: Output    0.336031\n",
      "dtype: float64\n",
      "Epoch: 160001 Error: Output    0.336031\n",
      "dtype: float64\n",
      "Epoch: 170001 Error: Output    0.336031\n",
      "dtype: float64\n",
      "Epoch: 180001 Error: Output    0.336031\n",
      "dtype: float64\n",
      "Epoch: 190001 Error: Output    0.336031\n",
      "dtype: float64\n",
      "Epoch: 200001 Error: Output    0.336031\n",
      "dtype: float64\n",
      "Epoch: 210001 Error: Output    0.336031\n",
      "dtype: float64\n",
      "Epoch: 220001 Error: Output    0.336031\n",
      "dtype: float64\n",
      "Epoch: 230001 Error: Output    0.336031\n",
      "dtype: float64\n",
      "Epoch: 240001 Error: Output    0.336031\n",
      "dtype: float64\n",
      "Epoch: 250001 Error: Output    0.336031\n",
      "dtype: float64\n",
      "Epoch: 260001 Error: Output    0.336031\n",
      "dtype: float64\n",
      "Epoch: 270001 Error: Output    0.336031\n",
      "dtype: float64\n",
      "Epoch: 280001 Error: Output    0.336031\n",
      "dtype: float64\n",
      "Epoch: 290001 Error: Output    0.336031\n",
      "dtype: float64\n",
      "Epoch: 300001 Error: Output    0.336031\n",
      "dtype: float64\n",
      "Epoch: 310001 Error: Output    0.336031\n",
      "dtype: float64\n",
      "Epoch: 320001 Error: Output    0.336031\n",
      "dtype: float64\n",
      "Epoch: 330001 Error: Output    0.336031\n",
      "dtype: float64\n",
      "Epoch: 340001 Error: Output    0.336031\n",
      "dtype: float64\n",
      "Epoch: 350001 Error: Output    0.336031\n",
      "dtype: float64\n",
      "Epoch: 360001 Error: Output    0.336031\n",
      "dtype: float64\n",
      "Epoch: 370001 Error: Output    0.336031\n",
      "dtype: float64\n",
      "Epoch: 380001 Error: Output    0.336031\n",
      "dtype: float64\n",
      "Epoch: 390001 Error: Output    0.336031\n",
      "dtype: float64\n"
     ]
    }
   ],
   "source": [
    "#Testing the network with 12 hidden neurons\n",
    "\n",
    "epochs = 400000\n",
    "learning_rate = 0.01\n",
    "error = []\n",
    "\n",
    "for epoch in range(epochs):\n",
    "    #input to hidden\n",
    "    input_layer = X_test\n",
    "    sum_synapse0 = np.dot(input_layer, weightsA_0)\n",
    "    hidden_layer = sigmoid(sum_synapse0)\n",
    "    \n",
    "    #hidden to output\n",
    "    sum_synapse1 = np.dot(hidden_layer, weightsA_1)\n",
    "    output_layer = sigmoid(sum_synapse1)\n",
    "    \n",
    "    #average error\n",
    "    error_output_layer = y_test - output_layer\n",
    "    average = np.mean(abs(error_output_layer))\n",
    "    #print after every specified range of the value\n",
    "    if epoch % 10000 == 0:\n",
    "        print('Epoch: ' + str(epoch + 1) + ' Error: ' + str(average))\n",
    "        error.append(average)"
   ]
  },
  {
   "cell_type": "code",
   "execution_count": 34,
   "id": "6559c087",
   "metadata": {},
   "outputs": [
    {
     "data": {
      "image/png": "[encoded data removed]",
      "text/plain": [
       "<Figure size 640x480 with 1 Axes>"
      ]
     },
     "metadata": {},
     "output_type": "display_data"
    }
   ],
   "source": [
    "plt.xlabel('Number of Epochs')\n",
    "plt.ylabel('Error')\n",
    "plt.title('Plot showing results from Neural Network Testing')\n",
    "plt.plot(error)\n",
    "plt.show()"
   ]
  },
  {
   "cell_type": "code",
   "execution_count": 35,
   "id": "120380c2",
   "metadata": {},
   "outputs": [
    {
     "name": "stdout",
     "output_type": "stream",
     "text": [
      "[[63 38]\n",
      " [35 95]]\n"
     ]
    }
   ],
   "source": [
    "preds = pd.DataFrame(output_layer, columns = ['Model Outputs']) \n",
    "preds['prediction'] = 1\n",
    "preds.loc[preds['Model Outputs'] < 0.5, 'prediction'] = 0 \n",
    "\n",
    "model_prediction = preds.drop(columns = ['Model Outputs'])\n",
    "print(metrics.confusion_matrix(y_test, model_prediction))"
   ]
  },
  {
   "cell_type": "code",
   "execution_count": 36,
   "id": "9a15e3fb",
   "metadata": {},
   "outputs": [
    {
     "name": "stdout",
     "output_type": "stream",
     "text": [
      "[[63 38]\n",
      " [35 95]]\n"
     ]
    }
   ],
   "source": [
    "confusion = metrics.confusion_matrix(y_test, model_prediction)\n",
    "print(confusion)\n",
    "#[row, column]\n",
    "TP = confusion[1, 1]\n",
    "TN = confusion[0, 0]\n",
    "FP = confusion[0, 1]\n",
    "FN = confusion[1, 0]"
   ]
  },
  {
   "cell_type": "code",
   "execution_count": 37,
   "id": "7b1341b1",
   "metadata": {},
   "outputs": [
    {
     "data": {
      "text/plain": [
       "<AxesSubplot:>"
      ]
     },
     "execution_count": 37,
     "metadata": {},
     "output_type": "execute_result"
    },
    {
     "data": {
      "image/png": "[encoded data removed]",
      "text/plain": [
       "<Figure size 640x480 with 2 Axes>"
      ]
     },
     "metadata": {},
     "output_type": "display_data"
    }
   ],
   "source": [
    "sns.heatmap(confusion, annot=True)"
   ]
  },
  {
   "cell_type": "code",
   "execution_count": 38,
   "id": "f709e08c",
   "metadata": {},
   "outputs": [
    {
     "name": "stdout",
     "output_type": "stream",
     "text": [
      "0.683982683982684\n",
      "0.683982683982684\n"
     ]
    }
   ],
   "source": [
    "print((TP + TN) / float(TP + TN + FP + FN))\n",
    "print(metrics.accuracy_score(y_test, model_prediction))\n",
    "\n",
    "#Our Accuracy"
   ]
  },
  {
   "cell_type": "code",
   "execution_count": 49,
   "id": "7864fe06",
   "metadata": {},
   "outputs": [
    {
     "name": "stdout",
     "output_type": "stream",
     "text": [
      "0.7045454545454546\n",
      "0.7045454545454546\n"
     ]
    }
   ],
   "source": [
    "precision = TP / float(TP + FP)\n",
    "print(precision)\n",
    "print(metrics.precision_score(y_test, model_prediction))\n",
    "\n",
    "#Our precision"
   ]
  },
  {
   "cell_type": "code",
   "execution_count": 61,
   "id": "365c4e5e",
   "metadata": {},
   "outputs": [],
   "source": [
    "#this time there are  going to be 30 hidden neurons. \n",
    "weightsB_0 = 2 * np.random.random((16, 30)) - 1\n",
    "weightsB_1 = 2 * np.random.random((30, 1)) - 1"
   ]
  },
  {
   "cell_type": "code",
   "execution_count": 62,
   "id": "49359c73",
   "metadata": {},
   "outputs": [
    {
     "name": "stderr",
     "output_type": "stream",
     "text": [
      "C:\\Users\\Owner\\anaconda3\\lib\\site-packages\\numpy\\core\\fromnumeric.py:3438: FutureWarning: In a future version, DataFrame.mean(axis=None) will return a scalar mean over the entire DataFrame. To retain the old behavior, use 'frame.mean(axis=0)' or just 'frame.mean()'\n",
      "  return mean(axis=axis, dtype=dtype, out=out, **kwargs)\n"
     ]
    },
    {
     "name": "stdout",
     "output_type": "stream",
     "text": [
      "Epoch: 1 Error: Output    0.483726\n",
      "dtype: float64\n",
      "Epoch: 10001 Error: Output    0.307334\n",
      "dtype: float64\n",
      "Epoch: 20001 Error: Output    0.279708\n",
      "dtype: float64\n",
      "Epoch: 30001 Error: Output    0.250908\n",
      "dtype: float64\n",
      "Epoch: 40001 Error: Output    0.230131\n",
      "dtype: float64\n",
      "Epoch: 50001 Error: Output    0.215468\n",
      "dtype: float64\n",
      "Epoch: 60001 Error: Output    0.201166\n",
      "dtype: float64\n",
      "Epoch: 70001 Error: Output    0.187356\n",
      "dtype: float64\n",
      "Epoch: 80001 Error: Output    0.175681\n",
      "dtype: float64\n",
      "Epoch: 90001 Error: Output    0.166284\n",
      "dtype: float64\n",
      "Epoch: 100001 Error: Output    0.157858\n",
      "dtype: float64\n",
      "Epoch: 110001 Error: Output    0.14847\n",
      "dtype: float64\n",
      "Epoch: 120001 Error: Output    0.139457\n",
      "dtype: float64\n",
      "Epoch: 130001 Error: Output    0.131835\n",
      "dtype: float64\n",
      "Epoch: 140001 Error: Output    0.125691\n",
      "dtype: float64\n",
      "Epoch: 150001 Error: Output    0.118721\n",
      "dtype: float64\n",
      "Epoch: 160001 Error: Output    0.110237\n",
      "dtype: float64\n",
      "Epoch: 170001 Error: Output    0.100692\n",
      "dtype: float64\n",
      "Epoch: 180001 Error: Output    0.095966\n",
      "dtype: float64\n",
      "Epoch: 190001 Error: Output    0.092305\n",
      "dtype: float64\n",
      "Epoch: 200001 Error: Output    0.114723\n",
      "dtype: float64\n",
      "Epoch: 210001 Error: Output    0.084016\n",
      "dtype: float64\n",
      "Epoch: 220001 Error: Output    0.081251\n",
      "dtype: float64\n",
      "Epoch: 230001 Error: Output    0.10212\n",
      "dtype: float64\n",
      "Epoch: 240001 Error: Output    0.074745\n",
      "dtype: float64\n",
      "Epoch: 250001 Error: Output    0.085246\n",
      "dtype: float64\n",
      "Epoch: 260001 Error: Output    0.06981\n",
      "dtype: float64\n",
      "Epoch: 270001 Error: Output    0.067887\n",
      "dtype: float64\n",
      "Epoch: 280001 Error: Output    0.06972\n",
      "dtype: float64\n",
      "Epoch: 290001 Error: Output    0.063744\n",
      "dtype: float64\n",
      "Epoch: 300001 Error: Output    0.062269\n",
      "dtype: float64\n",
      "Epoch: 310001 Error: Output    0.060404\n",
      "dtype: float64\n",
      "Epoch: 320001 Error: Output    0.059082\n",
      "dtype: float64\n",
      "Epoch: 330001 Error: Output    0.058508\n",
      "dtype: float64\n",
      "Epoch: 340001 Error: Output    0.056351\n",
      "dtype: float64\n",
      "Epoch: 350001 Error: Output    0.055073\n",
      "dtype: float64\n",
      "Epoch: 360001 Error: Output    0.053955\n",
      "dtype: float64\n",
      "Epoch: 370001 Error: Output    0.053011\n",
      "dtype: float64\n",
      "Epoch: 380001 Error: Output    0.052217\n",
      "dtype: float64\n",
      "Epoch: 390001 Error: Output    0.051205\n",
      "dtype: float64\n"
     ]
    }
   ],
   "source": [
    "#Training the network with 30 hidden neurons\n",
    "\n",
    "epochs = 400000\n",
    "learning_rate = 0.01\n",
    "error = []\n",
    "\n",
    "for epoch in range(epochs):\n",
    "    #input to hidden\n",
    "    input_layer = X_train\n",
    "    sum_synapse0 = np.dot(input_layer, weightsB_0)\n",
    "    hidden_layer = sigmoid(sum_synapse0)\n",
    "    \n",
    "    #hidden to output\n",
    "    sum_synapse1 = np.dot(hidden_layer, weightsB_1)\n",
    "    output_layer = sigmoid(sum_synapse1)\n",
    "    \n",
    "    #average error\n",
    "    error_output_layer = y_train - output_layer\n",
    "    average = np.mean(abs(error_output_layer))\n",
    "    #print after every specified range of the value\n",
    "    if epoch % 10000 == 0:\n",
    "        print('Epoch: ' + str(epoch + 1) + ' Error: ' + str(average))\n",
    "        error.append(average)\n",
    "    \n",
    "    #delta output\n",
    "    derivative_output = sigmoid_derivative(output_layer)\n",
    "    delta_output = error_output_layer * derivative_output\n",
    "\n",
    "    weightsB1T = weightsB_1.T\n",
    "    delta_output_weight = delta_output.dot(weightsB1T)\n",
    "    delta_hidden_layer = delta_output_weight * sigmoid_derivative(hidden_layer)\n",
    "    \n",
    "    #weight update for hidden layer\n",
    "    hidden_layerT = hidden_layer.T\n",
    "    input_x_delta1 = hidden_layerT.dot(delta_output)\n",
    "    weightsB_1 = weightsB_1 + (input_x_delta1 * learning_rate)\n",
    "    \n",
    "    #weight update for input layer\n",
    "    input_layerT = input_layer.T\n",
    "    input_x_delta0 = input_layerT.dot(delta_hidden_layer)\n",
    "    weightsB_0 = weightsB_0 + (input_x_delta0 * learning_rate)"
   ]
  },
  {
   "cell_type": "code",
   "execution_count": 63,
   "id": "420db5a3",
   "metadata": {},
   "outputs": [
    {
     "data": {
      "image/png": "[encoded data removed]",
      "text/plain": [
       "<Figure size 640x480 with 1 Axes>"
      ]
     },
     "metadata": {},
     "output_type": "display_data"
    }
   ],
   "source": [
    "plt.xlabel('Number of Epochs')\n",
    "plt.ylabel('Error')\n",
    "plt.title('Plot showing results from Neural Network Training')\n",
    "plt.plot(error)\n",
    "plt.show()"
   ]
  },
  {
   "cell_type": "code",
   "execution_count": 64,
   "id": "050cec7b",
   "metadata": {},
   "outputs": [
    {
     "name": "stdout",
     "output_type": "stream",
     "text": [
      "Epoch: 1 Error: Output    0.360735\n",
      "dtype: float64\n",
      "Epoch: 10001 Error: Output    0.360735\n",
      "dtype: float64\n",
      "Epoch: 20001 Error: Output    0.360735\n",
      "dtype: float64\n",
      "Epoch: 30001 Error: Output    0.360735\n",
      "dtype: float64\n",
      "Epoch: 40001 Error: Output    0.360735\n",
      "dtype: float64\n",
      "Epoch: 50001 Error: Output    0.360735\n",
      "dtype: float64\n",
      "Epoch: 60001 Error: Output    0.360735\n",
      "dtype: float64\n",
      "Epoch: 70001 Error: Output    0.360735\n",
      "dtype: float64\n",
      "Epoch: 80001 Error: Output    0.360735\n",
      "dtype: float64\n",
      "Epoch: 90001 Error: Output    0.360735\n",
      "dtype: float64\n",
      "Epoch: 100001 Error: Output    0.360735\n",
      "dtype: float64\n",
      "Epoch: 110001 Error: Output    0.360735\n",
      "dtype: float64\n",
      "Epoch: 120001 Error: Output    0.360735\n",
      "dtype: float64\n",
      "Epoch: 130001 Error: Output    0.360735\n",
      "dtype: float64\n",
      "Epoch: 140001 Error: Output    0.360735\n",
      "dtype: float64\n",
      "Epoch: 150001 Error: Output    0.360735\n",
      "dtype: float64\n",
      "Epoch: 160001 Error: Output    0.360735\n",
      "dtype: float64\n",
      "Epoch: 170001 Error: Output    0.360735\n",
      "dtype: float64\n",
      "Epoch: 180001 Error: Output    0.360735\n",
      "dtype: float64\n",
      "Epoch: 190001 Error: Output    0.360735\n",
      "dtype: float64\n",
      "Epoch: 200001 Error: Output    0.360735\n",
      "dtype: float64\n",
      "Epoch: 210001 Error: Output    0.360735\n",
      "dtype: float64\n",
      "Epoch: 220001 Error: Output    0.360735\n",
      "dtype: float64\n",
      "Epoch: 230001 Error: Output    0.360735\n",
      "dtype: float64\n",
      "Epoch: 240001 Error: Output    0.360735\n",
      "dtype: float64\n",
      "Epoch: 250001 Error: Output    0.360735\n",
      "dtype: float64\n",
      "Epoch: 260001 Error: Output    0.360735\n",
      "dtype: float64\n",
      "Epoch: 270001 Error: Output    0.360735\n",
      "dtype: float64\n",
      "Epoch: 280001 Error: Output    0.360735\n",
      "dtype: float64\n",
      "Epoch: 290001 Error: Output    0.360735\n",
      "dtype: float64\n",
      "Epoch: 300001 Error: Output    0.360735\n",
      "dtype: float64\n",
      "Epoch: 310001 Error: Output    0.360735\n",
      "dtype: float64\n",
      "Epoch: 320001 Error: Output    0.360735\n",
      "dtype: float64\n",
      "Epoch: 330001 Error: Output    0.360735\n",
      "dtype: float64\n",
      "Epoch: 340001 Error: Output    0.360735\n",
      "dtype: float64\n",
      "Epoch: 350001 Error: Output    0.360735\n",
      "dtype: float64\n",
      "Epoch: 360001 Error: Output    0.360735\n",
      "dtype: float64\n",
      "Epoch: 370001 Error: Output    0.360735\n",
      "dtype: float64\n",
      "Epoch: 380001 Error: Output    0.360735\n",
      "dtype: float64\n",
      "Epoch: 390001 Error: Output    0.360735\n",
      "dtype: float64\n"
     ]
    }
   ],
   "source": [
    "#Testing the network with 30 hidden neurons\n",
    "\n",
    "epochs = 400000\n",
    "learning_rate = 0.01\n",
    "error = []\n",
    "\n",
    "for epoch in range(epochs):\n",
    "    #input to hidden\n",
    "    input_layer = X_test\n",
    "    sum_synapse0 = np.dot(input_layer, weightsB_0)\n",
    "    hidden_layer = sigmoid(sum_synapse0)\n",
    "    \n",
    "    #hidden to output\n",
    "    sum_synapse1 = np.dot(hidden_layer, weightsB_1)\n",
    "    output_layer = sigmoid(sum_synapse1)\n",
    "    \n",
    "    #average error\n",
    "    error_output_layer = y_test - output_layer\n",
    "    average = np.mean(abs(error_output_layer))\n",
    "    #print after every specified range of the value\n",
    "    if epoch % 10000 == 0:\n",
    "        print('Epoch: ' + str(epoch + 1) + ' Error: ' + str(average))\n",
    "        error.append(average)"
   ]
  },
  {
   "cell_type": "code",
   "execution_count": 65,
   "id": "ecd97f4e",
   "metadata": {},
   "outputs": [
    {
     "data": {
      "image/png": "[encoded data removed]",
      "text/plain": [
       "<Figure size 640x480 with 1 Axes>"
      ]
     },
     "metadata": {},
     "output_type": "display_data"
    }
   ],
   "source": [
    "plt.xlabel('Number of Epochs')\n",
    "plt.ylabel('Error')\n",
    "plt.title('Plot showing results from Neural Network Testing')\n",
    "plt.plot(error)\n",
    "plt.show()"
   ]
  },
  {
   "cell_type": "code",
   "execution_count": 66,
   "id": "81fb19f3",
   "metadata": {},
   "outputs": [
    {
     "name": "stdout",
     "output_type": "stream",
     "text": [
      "[[63 38]\n",
      " [46 84]]\n"
     ]
    }
   ],
   "source": [
    "preds = pd.DataFrame(output_layer, columns = ['Model Outputs']) \n",
    "preds['prediction'] = 1\n",
    "preds.loc[preds['Model Outputs'] < 0.5, 'prediction'] = 0 \n",
    "\n",
    "model_prediction = preds.drop(columns = ['Model Outputs'])\n",
    "print(metrics.confusion_matrix(y_test, model_prediction))"
   ]
  },
  {
   "cell_type": "code",
   "execution_count": 67,
   "id": "5f7d30b8",
   "metadata": {},
   "outputs": [
    {
     "name": "stdout",
     "output_type": "stream",
     "text": [
      "[[63 38]\n",
      " [46 84]]\n"
     ]
    }
   ],
   "source": [
    "confusion = metrics.confusion_matrix(y_test, model_prediction)\n",
    "print(confusion)\n",
    "#[row, column]\n",
    "TP = confusion[1, 1]\n",
    "TN = confusion[0, 0]\n",
    "FP = confusion[0, 1]\n",
    "FN = confusion[1, 0]"
   ]
  },
  {
   "cell_type": "code",
   "execution_count": 68,
   "id": "fac4731e",
   "metadata": {},
   "outputs": [
    {
     "data": {
      "text/plain": [
       "<AxesSubplot:>"
      ]
     },
     "execution_count": 68,
     "metadata": {},
     "output_type": "execute_result"
    },
    {
     "data": {
      "image/png": "[encoded data removed]",
      "text/plain": [
       "<Figure size 640x480 with 2 Axes>"
      ]
     },
     "metadata": {},
     "output_type": "display_data"
    }
   ],
   "source": [
    "sns.heatmap(confusion, annot=True)"
   ]
  },
  {
   "cell_type": "code",
   "execution_count": 69,
   "id": "cbc1466f",
   "metadata": {},
   "outputs": [
    {
     "name": "stdout",
     "output_type": "stream",
     "text": [
      "0.6363636363636364\n",
      "0.6363636363636364\n"
     ]
    }
   ],
   "source": [
    "print((TP + TN) / float(TP + TN + FP + FN))\n",
    "print(metrics.accuracy_score(y_test, model_prediction))\n",
    "\n",
    "#Our Accuracy"
   ]
  },
  {
   "cell_type": "markdown",
   "id": "23fac649",
   "metadata": {},
   "source": [
    "## ALL DONE"
   ]
  },
  {
   "cell_type": "code",
   "execution_count": null,
   "id": "b037746b",
   "metadata": {},
   "outputs": [],
   "source": []
  }
 ],
 "metadata": {
  "kernelspec": {
   "display_name": "Python 3 (ipykernel)",
   "language": "python",
   "name": "python3"
  },
  "language_info": {
   "codemirror_mode": {
    "name": "ipython",
    "version": 3
   },
   "file_extension": ".py",
   "mimetype": "text/x-python",
   "name": "python",
   "nbconvert_exporter": "python",
   "pygments_lexer": "ipython3",
   "version": "3.9.13"
  }
 },
 "nbformat": 4,
 "nbformat_minor": 5
}
